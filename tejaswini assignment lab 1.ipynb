{
 "cells": [
  {
   "cell_type": "markdown",
   "metadata": {
    "colab_type": "text",
    "id": "view-in-github"
   },
   "source": [
    "<a href=\"https://colab.research.google.com/github/unt-iialab/INFO5731_Spring2020/blob/master/In_class_exercise/In_class_exercise_01.ipynb\" target=\"_parent\"><img src=\"https://colab.research.google.com/assets/colab-badge.svg\" alt=\"Open In Colab\"/></a>"
   ]
  },
  {
   "cell_type": "markdown",
   "metadata": {
    "colab_type": "text",
    "id": "DymRJbxDBCnf"
   },
   "source": [
    "# **The first Lab-assignment (01/25/2022, 50 points in total)**"
   ]
  },
  {
   "cell_type": "markdown",
   "metadata": {
    "colab_type": "text",
    "id": "jJDe71iLB616"
   },
   "source": [
    "(1) Write a Python program to count the number of characters in a string. (5 points)\n",
    "\n",
    "Sample String : 'google.com', \n",
    "\n",
    "Expected Result : {'o': 3, 'g': 2, '.': 1, 'e': 1, 'l': 1, 'm': 1, 'c': 1}"
   ]
  },
  {
   "cell_type": "code",
   "execution_count": 19,
   "metadata": {
    "colab": {},
    "colab_type": "code",
    "id": "MtKskTzbCLaU"
   },
   "outputs": [
    {
     "name": "stdout",
     "output_type": "stream",
     "text": [
      "{'g': 2, 'o': 3, 'l': 1, 'e': 1, '.': 1, 'c': 1, 'm': 1}\n"
     ]
    }
   ],
   "source": [
    "# (1) Write a Python program to count the number of characters in a string. (5 points)\n",
    "# Sample String : 'google.com', \n",
    "# Expected Result : {'o': 3, 'g': 2, '.': 1, 'e': 1, 'l': 1, 'm': 1, 'c': 1}\n",
    "\n",
    "def count(str):\n",
    "    dict={}\n",
    "    for X in str:\n",
    "        keys=dict.keys()\n",
    "        if X in keys:\n",
    "            dict[X]+=1\n",
    "        else:\n",
    "            dict[X]=1\n",
    "    return dict\n",
    "print(count('google.com'))\n"
   ]
  },
  {
   "cell_type": "markdown",
   "metadata": {
    "colab_type": "text",
    "id": "55W9AMdXCSpV"
   },
   "source": [
    "(2) Write a Python program to sum all the items in a list. (5 points)"
   ]
  },
  {
   "cell_type": "code",
   "execution_count": 20,
   "metadata": {
    "colab": {},
    "colab_type": "code",
    "id": "I57NXsauCec2"
   },
   "outputs": [
    {
     "name": "stdout",
     "output_type": "stream",
     "text": [
      "sum of ele in list:  8\n",
      "sum of ele in list:  14\n",
      "sum of ele in list:  18\n",
      "sum of ele in list:  30\n",
      "sum of ele in list:  39\n"
     ]
    }
   ],
   "source": [
    "# (2) Write a Python program to sum all the items in a list. (5 points)\n",
    "\n",
    "list = [8, 6, 4, 12, 9] \n",
    "sum=0;\n",
    "for ele in range(0, len(list)):\n",
    "    sum = sum + list[ele]\n",
    "    print(\"sum of ele in list: \", sum)"
   ]
  },
  {
   "cell_type": "markdown",
   "metadata": {
    "colab_type": "text",
    "id": "4ulBZ6yhCi9F"
   },
   "source": [
    "(3) Write a Python program to get a string from a given string where all occurrences of its first char have been changed to '\\$', except the first char itself. (5 points)\n",
    "\n",
    "Sample String : 'restart', \n",
    "\n",
    "Expected Result : 'resta\\$t'"
   ]
  },
  {
   "cell_type": "code",
   "execution_count": 1,
   "metadata": {
    "colab": {},
    "colab_type": "code",
    "id": "Fj0XhwbBCw2o"
   },
   "outputs": [
    {
     "name": "stdout",
     "output_type": "stream",
     "text": [
      "Final String : resta$t\n"
     ]
    }
   ],
   "source": [
    "# (3) Write a Python program to get a string from a given string where all occurrences of its first char have been changed to '\\$', except the first char itself. (5 points)\n",
    "# Sample String : 'restart', \n",
    "# Expected Result : 'resta\\$t'\n",
    "\n",
    "\n",
    "newstr = input(\"input new string\")\n",
    "first_element1 = newstr[0]\n",
    "empty_str1 = first_element1\n",
    "\n",
    "for elements in range(1,len(newstr)):\n",
    "    \n",
    "    if(newstr[elements] == first_element1):\n",
    "        empty_str1 = empty_str1+\"$\"\n",
    "    else:\n",
    "        empty_str1 = empty_str1 + newstr[elements]\n",
    "\n",
    "print(\"Final String : \"+empty_str1)   \n",
    "\n",
    "\n",
    "\n",
    "        \n",
    "\n",
    "\n",
    "\n",
    "    \n",
    "    \n",
    "\n"
   ]
  },
  {
   "cell_type": "markdown",
   "metadata": {
    "colab_type": "text",
    "id": "_bIP7s1MCzue"
   },
   "source": [
    "(4) Write a program with python which could accept two parameter a and b to calculate and output the result of S, where \n",
    "\n",
    "$\\ S=3.14*(1+a/b)^3$ (5 points)\n",
    "\n"
   ]
  },
  {
   "cell_type": "code",
   "execution_count": null,
   "metadata": {
    "colab": {},
    "colab_type": "code",
    "id": "w79QilHXD3Mg"
   },
   "outputs": [
    {
     "name": "stdout",
     "output_type": "stream",
     "text": [
      "65536.0\n",
      "X value is : 3.152265625\n"
     ]
    }
   ],
   "source": [
    "\n",
    "#(4) Write a program with python which could accept two parameter a and b to calculate and output the result of S, where \n",
    "# $\\ S=3.14*(1+a/b)^3$ (5 points)\n",
    "\n",
    "import math\n",
    "\n",
    "a = int(input(\"Enter First Parameter\"))\n",
    "b = int(input(\"Enter Second Parameter\"))\n",
    "print(math.pow(16, 4))\n",
    "rem = a/b\n",
    "pow = 1+math.pow(rem,4)\n",
    "X = 3.14*(pow)\n",
    "\n",
    "print(\"X value is :\",X)"
   ]
  },
  {
   "cell_type": "markdown",
   "metadata": {
    "colab_type": "text",
    "id": "xCa2bK9aD4Q3"
   },
   "source": [
    "(5) Write a Python program to concatenate following dictionaries to create a new one. (5 points)\n",
    "\n",
    "Sample Dictionary : dic1={1:10, 2:20}, dic2={3:30, 4:40}, dic3={5:50,6:60}, \n",
    "\n",
    "Expected Result : {1: 10, 2: 20, 3: 30, 4: 40, 5: 50, 6: 60}\n"
   ]
  },
  {
   "cell_type": "code",
   "execution_count": null,
   "metadata": {
    "colab": {},
    "colab_type": "code",
    "id": "_z4aLqAbEET1"
   },
   "outputs": [
    {
     "name": "stdout",
     "output_type": "stream",
     "text": [
      "{2: 16, 5: 625, 4: 256, 3: 81, 6: 1296, 8: 4096}\n"
     ]
    }
   ],
   "source": [
    "# (5) Write a Python program to concatenate following dictionaries to create a new one. (5 points)\n",
    "# Sample Dictionary : dic1={1:10, 2:20}, dic2={3:30, 4:40}, dic3={5:50,6:60}, \n",
    "# Expected Result : {1: 10, 2: 20, 3: 30, 4: 40, 5: 50, 6: 60}\n",
    "\n",
    "\n",
    "sample_dict1 = {2:16, 5:625}\n",
    "sample_dict2 = {4:256, 3:81}\n",
    "sample_dict3 = {6:1296, 8:4096}\n",
    "sample_dict4 = {}\n",
    "for d in (sample_dict1, sample_dict2, sample_dict3): sample_dict4.update(d)\n",
    "print(sample_dict4)"
   ]
  },
  {
   "cell_type": "markdown",
   "metadata": {
    "colab_type": "text",
    "id": "0v48Vqa7FrQh"
   },
   "source": [
    "(6) Write a Python program to check whether an element exists within a tuple. (5 points)"
   ]
  },
  {
   "cell_type": "code",
   "execution_count": null,
   "metadata": {
    "colab": {},
    "colab_type": "code",
    "id": "7WEmgq-DF2P1"
   },
   "outputs": [
    {
     "name": "stdout",
     "output_type": "stream",
     "text": [
      "True\n",
      "True\n"
     ]
    }
   ],
   "source": [
    "\n",
    "# (6) Write a Python program to check whether an element exists within a tuple.\n",
    "\n",
    "tuple_elements = (\"s\", \"u\", \"n\", 5 , \"f\", \"l\", \"o\", 1 ,\"w\", \"e\", \"r\",  )\n",
    "print(\"w\" in tuple_elements)\n",
    "print(1 in tuple_elements)"
   ]
  },
  {
   "cell_type": "markdown",
   "metadata": {
    "colab_type": "text",
    "id": "vD5PYLMuGga_"
   },
   "source": [
    "(7) Write a Python program to find maximum and the minimum value in a set. (5 points)"
   ]
  },
  {
   "cell_type": "code",
   "execution_count": null,
   "metadata": {
    "colab": {},
    "colab_type": "code",
    "id": "t0D5kdJUGjjw"
   },
   "outputs": [
    {
     "name": "stdout",
     "output_type": "stream",
     "text": [
      "Mininum value in a set:\n",
      "88\n",
      "Maximum value in a set:\n",
      "921\n"
     ]
    }
   ],
   "source": [
    "# (7) Write a Python program to find maximum and the minimum value in a set. (5 points)\n",
    "\n",
    "x = {142, 365, 88, 921, 590}\n",
    "print(\"Mininum value in a set:\")\n",
    "print(min(x))\n",
    "print(\"Maximum value in a set:\")\n",
    "print(max(x))# (6) Write a Python program to check whether an element exists within a tuple."
   ]
  },
  {
   "cell_type": "markdown",
   "metadata": {
    "colab_type": "text",
    "id": "uHkd-y5VhVWC"
   },
   "source": [
    "(8) Write a Python program to randomly divide the students in this class into six groups for term projects, each group should have at least 4 students but no more than 6 students (including 6). Here is the students list: (5 points)\n",
    "\n",
    "studnet_list = ['ja0964','sa1198','sb1357','vb0218','sc1229','kg0569','kg0470','sg1297','bg0320','fh0141','jl1252','sk1386',\n",
    "           'ak0956','sk1390','sk1458','sk1313','ak0934','vm0377','nm0618','sm1640','sm1907','gn0108','pr0353','dr0609','ms1500','aos0040','ds0814', 'av0659','nv0234','hy0232']"
   ]
  },
  {
   "cell_type": "code",
   "execution_count": null,
   "metadata": {
    "colab": {},
    "colab_type": "code",
    "id": "3iGbmcOBhTwy"
   },
   "outputs": [
    {
     "name": "stdout",
     "output_type": "stream",
     "text": [
      "[['sm1907', 'sb1357', 'bg0320', 'vb0218', 'sc1229'], ['sa1198', 'kg0569', 'sm1640', 'pr0353', 'vm0377'], ['sk1386', 'dr0609', 'sk1313', 'ak0956', 'kg0470'], ['fh0141', 'ms1500', 'gn0108', 'av0659', 'jl1252'], ['nm0618', 'sk1390', 'aos0040', 'hy0232', 'sk1458'], ['nv0234', 'ja0964', 'ds0814', 'ak0934', 'sg1297']]\n"
     ]
    }
   ],
   "source": [
    "import random\n",
    " \n",
    "def team(x, y):\n",
    "    for n in range(0, len(x), y):\n",
    "        yield x[n:n + y]\n",
    "\n",
    "team_members = ['ja0964','sa1198','sb1357','vb0218','sc1229','kg0569','kg0470','sg1297','bg0320','fh0141','jl1252','sk1386','ak0956','sk1390','sk1458','sk1313','ak0934','vm0377','nm0618','sm1640','sm1907','gn0108','pr0353','dr0609','ms1500','aos0040','ds0814','av0659','nv0234','hy0232']\n",
    "random.shuffle(team_members)\n",
    "x = list(team(team_members, 4))\n",
    "print(x)"
   ]
  },
  {
   "cell_type": "markdown",
   "metadata": {},
   "source": [
    "(9) Write a Python program to find the duplicate elements in a given array of integers. Return -1 If there are no such elements. (5 points)"
   ]
  },
  {
   "cell_type": "code",
   "execution_count": null,
   "metadata": {},
   "outputs": [
    {
     "name": "stdout",
     "output_type": "stream",
     "text": [
      "14\n",
      "9\n",
      "3\n"
     ]
    }
   ],
   "source": [
    "# (9) Write a Python program to find the duplicate elements in a given array of integers. Return -1 If there are no such elements. (5 points)\n",
    "\n",
    "\n",
    "def y_duplicate(num):\n",
    "    num_set = set()\n",
    "    no_duplicate = -1\n",
    "    for x in range(len(num)):\n",
    "        if num[x] in num_set:\n",
    "            return num[x]\n",
    "        else:\n",
    "            num_set.add(num[x])\n",
    "            \n",
    "    return no_duplicate\n",
    "\n",
    "print(y_duplicate([8, 14, 2, 14, 11, 14]))\n",
    "print(y_duplicate([9, 6, 4, 9, 10]))\n",
    "print(y_duplicate([3, 15, 7, 3, 5]))"
   ]
  },
  {
   "cell_type": "markdown",
   "metadata": {},
   "source": [
    "(10) Write a Python program to select all the Sundays of a specified year. (5 extra points)"
   ]
  },
  {
   "cell_type": "code",
   "execution_count": null,
   "metadata": {},
   "outputs": [
    {
     "name": "stdout",
     "output_type": "stream",
     "text": [
      "2021-01-03\n",
      "2021-01-10\n",
      "2021-01-17\n",
      "2021-01-24\n",
      "2021-01-31\n",
      "2021-02-07\n",
      "2021-02-14\n",
      "2021-02-21\n",
      "2021-02-28\n",
      "2021-03-07\n",
      "2021-03-14\n",
      "2021-03-21\n",
      "2021-03-28\n",
      "2021-04-04\n",
      "2021-04-11\n",
      "2021-04-18\n",
      "2021-04-25\n",
      "2021-05-02\n",
      "2021-05-09\n",
      "2021-05-16\n",
      "2021-05-23\n",
      "2021-05-30\n",
      "2021-06-06\n",
      "2021-06-13\n",
      "2021-06-20\n",
      "2021-06-27\n",
      "2021-07-04\n",
      "2021-07-11\n",
      "2021-07-18\n",
      "2021-07-25\n",
      "2021-08-01\n",
      "2021-08-08\n",
      "2021-08-15\n",
      "2021-08-22\n",
      "2021-08-29\n",
      "2021-09-05\n",
      "2021-09-12\n",
      "2021-09-19\n",
      "2021-09-26\n",
      "2021-10-03\n",
      "2021-10-10\n",
      "2021-10-17\n",
      "2021-10-24\n",
      "2021-10-31\n",
      "2021-11-07\n",
      "2021-11-14\n",
      "2021-11-21\n",
      "2021-11-28\n",
      "2021-12-05\n",
      "2021-12-12\n",
      "2021-12-19\n",
      "2021-12-26\n"
     ]
    }
   ],
   "source": [
    "# (10) Write a Python program to select all the Sundays of a specified year. (5 extra points)\n",
    "\n",
    "from datetime import date, timedelta\n",
    "\n",
    "def wholeyear_sundays(specific_year):\n",
    "\n",
    "       dt = date(specific_year, 1, 1)\n",
    "       \n",
    "       dt += timedelta(days = 6 - dt.weekday())  \n",
    "       while dt.year == specific_year:\n",
    "          yield dt\n",
    "          dt += timedelta(days = 7)\n",
    "          \n",
    "for x in wholeyear_sundays(2021):\n",
    "   print(x)"
   ]
  }
 ],
 "metadata": {
  "colab": {
   "collapsed_sections": [],
   "include_colab_link": true,
   "name": "In_class_exercise_01.ipynb",
   "provenance": []
  },
  "kernelspec": {
   "display_name": "Python 3",
   "language": "python",
   "name": "python3"
  },
  "language_info": {
   "codemirror_mode": {
    "name": "ipython",
    "version": 3
   },
   "file_extension": ".py",
   "mimetype": "text/x-python",
   "name": "python",
   "nbconvert_exporter": "python",
   "pygments_lexer": "ipython3",
   "version": "3.10.1"
  }
 },
 "nbformat": 4,
 "nbformat_minor": 1
}
